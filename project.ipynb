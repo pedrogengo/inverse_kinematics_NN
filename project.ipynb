{
 "cells": [
  {
   "cell_type": "code",
   "execution_count": null,
   "metadata": {},
   "outputs": [],
   "source": [
    "import chart_studio.plotly as py\n",
    "import plotly.graph_objects as go\n",
    "import matplotlib.pyplot as plt\n",
    "import numpy as np\n",
    "import pandas as pd"
   ]
  },
  {
   "cell_type": "code",
   "execution_count": null,
   "metadata": {},
   "outputs": [],
   "source": [
    "np.random.seed(42)"
   ]
  },
  {
   "cell_type": "markdown",
   "metadata": {},
   "source": [
    "## Building our robotic arm (Construindo nosso manipulador)\n",
    "\n",
    "We will start our robotic arm in the standard position as we can see below:\n",
    "\n",
    "----------\n",
    "Para a construção do nosso manipulador, inicializaremos ele na posição padrão."
   ]
  },
  {
   "cell_type": "code",
   "execution_count": null,
   "metadata": {},
   "outputs": [],
   "source": [
    "from src.robot import Manipulator, Joint\n",
    "\n",
    "joint1 = Joint(100, 0, 90, 90)\n",
    "joint2 = Joint(0, 50, 0, 0, link=joint1)\n",
    "joint3 = Joint(0, 50, 0, 0, link=joint2)\n",
    "\n",
    "robot = Manipulator([joint1, joint2, joint3])"
   ]
  },
  {
   "cell_type": "code",
   "execution_count": null,
   "metadata": {},
   "outputs": [],
   "source": [
    "robot.forward_kinematics()\n",
    "robot.static_plot()"
   ]
  },
  {
   "cell_type": "code",
   "execution_count": null,
   "metadata": {},
   "outputs": [],
   "source": [
    "print('Final Matrix:\\n', np.round(joint3.updated_matrix))"
   ]
  },
  {
   "cell_type": "code",
   "execution_count": null,
   "metadata": {},
   "outputs": [],
   "source": [
    "robot.get_X(), robot.get_Y(), robot.get_Z()"
   ]
  },
  {
   "cell_type": "code",
   "execution_count": null,
   "metadata": {},
   "outputs": [],
   "source": [
    "robot.update_theta(0, 0)\n",
    "robot.update_theta(1, -90)\n",
    "robot.update_theta(2, -10)\n",
    "\n",
    "\n",
    "robot.forward_kinematics()\n",
    "robot.static_plot()"
   ]
  },
  {
   "cell_type": "code",
   "execution_count": null,
   "metadata": {},
   "outputs": [],
   "source": [
    "robot.get_X(), robot.get_Y(), robot.get_Z()"
   ]
  },
  {
   "cell_type": "markdown",
   "metadata": {},
   "source": [
    "## Generating our dataset (Gerando nossa base de dados)\n",
    "\n",
    "To generate our dataset we need to pass a list of $\\theta$ to our robotic arm and save the endeffector's coordinates. So, during the training, our input will be the endeffector's coordinates and our output will be $\\theta$ values.\n",
    "\n",
    "-------\n",
    "\n",
    "Para gerar nossos dados de treino, passaremos uma série de valores de $\\theta$ para nosso manipulador e salvaremos os valores das coordenadas do endeffector. Assim, na hora de treinar, nosso input será as coordenadas do endeffector e nosso output os valores de theta."
   ]
  },
  {
   "cell_type": "code",
   "execution_count": null,
   "metadata": {},
   "outputs": [],
   "source": [
    "from src.data.make_dataset import make_dataset"
   ]
  },
  {
   "cell_type": "code",
   "execution_count": null,
   "metadata": {},
   "outputs": [],
   "source": [
    "theta1_zone1 = list(range(0, 100, 10)) + list(range(180, 280, 10))\n",
    "theta1_zone2 = list(range(90, 190, 10)) + list(range(270, 370, 10))\n",
    "theta2 = list(range(-90, 100, 10))\n",
    "theta3 = list(range(-90, 100, 10))"
   ]
  },
  {
   "cell_type": "code",
   "execution_count": null,
   "metadata": {},
   "outputs": [],
   "source": [
    "X_zone1, y_zone1 = make_dataset(robot, [theta1_zone1, theta2, theta3], 'data_zone1')\n",
    "X_zone2, y_zone2 = make_dataset(robot, [theta1_zone2, theta2, theta3], 'data_zone2')"
   ]
  },
  {
   "cell_type": "code",
   "execution_count": null,
   "metadata": {},
   "outputs": [],
   "source": [
    "data_for_dataframe = []\n",
    "for x, y in zip(X_zone1, y_zone1):\n",
    "    x_ = list(x)\n",
    "    x_.extend(list(y))\n",
    "    x_.extend([1])\n",
    "    data_for_dataframe.append(x_)\n",
    "for x, y in zip(X_zone2, y_zone2):\n",
    "    x_ = list(x)\n",
    "    x_.extend(list(y))\n",
    "    x_.extend([2])\n",
    "    data_for_dataframe.append(x_)"
   ]
  },
  {
   "cell_type": "code",
   "execution_count": null,
   "metadata": {},
   "outputs": [],
   "source": [
    "df = pd.DataFrame(data_for_dataframe, columns=['X', 'Y', 'Z', 't1', 't2', 't3', 'zona'])\n",
    "print('Shape inicial: ', df.shape)\n",
    "\n",
    "for column in ['X', 'Y', 'Z']:\n",
    "    df[column] = df[column].apply(lambda x: round(x, 4))\n",
    "\n",
    "df_clean = df.drop_duplicates(subset=['X','Y','Z', 'zona'], keep='first')\n",
    "print('Shape final: ', df_clean.shape)"
   ]
  },
  {
   "cell_type": "code",
   "execution_count": null,
   "metadata": {},
   "outputs": [],
   "source": [
    "df_clean['zona'].value_counts()"
   ]
  },
  {
   "cell_type": "code",
   "execution_count": null,
   "metadata": {},
   "outputs": [],
   "source": [
    "df_clean.head()"
   ]
  },
  {
   "cell_type": "code",
   "execution_count": null,
   "metadata": {},
   "outputs": [],
   "source": [
    "df_zona1 = df_clean[df_clean.zona == 1]\n",
    "df_zona2 = df_clean[df_clean.zona == 2]\n",
    "df_total = df_clean.drop_duplicates(subset=['X','Y','Z'], keep='first')"
   ]
  },
  {
   "cell_type": "code",
   "execution_count": null,
   "metadata": {},
   "outputs": [],
   "source": [
    "X_zone1, y_zone1 = df_zona1[['X', 'Y', 'Z']].values, df_zona1[['t1', 't2', 't3']].values\n",
    "X_zone2, y_zone2 = df_zona2[['X', 'Y', 'Z']].values, df_zona2[['t1', 't2', 't3']].values\n",
    "X_total, y_total = df_clean[['X', 'Y', 'Z']].values, df_clean[['t1', 't2', 't3']].values"
   ]
  },
  {
   "cell_type": "code",
   "execution_count": null,
   "metadata": {},
   "outputs": [],
   "source": [
    "X_zone2[324], y_zone2[324]"
   ]
  },
  {
   "cell_type": "markdown",
   "metadata": {},
   "source": [
    "### Visualização da área de trabalho gerada"
   ]
  },
  {
   "cell_type": "code",
   "execution_count": null,
   "metadata": {},
   "outputs": [],
   "source": [
    "theta1 = list(range(0, 360, 10))"
   ]
  },
  {
   "cell_type": "code",
   "execution_count": null,
   "metadata": {},
   "outputs": [],
   "source": [
    "robot.plot_workspace([theta1, theta2, theta3], [90, 0, 0])"
   ]
  },
  {
   "cell_type": "markdown",
   "metadata": {},
   "source": [
    "## Visualização das duas zonas de dados"
   ]
  },
  {
   "cell_type": "code",
   "execution_count": null,
   "metadata": {
    "scrolled": false
   },
   "outputs": [],
   "source": [
    "initial = [90, 0, 0]\n",
    "theta1_zone1 = list(range(0, 100, 10))\n",
    "theta1_zone2 = list(range(180, 280, 10))\n",
    "theta2 = list(range(-90, 100, 10))\n",
    "theta3 = list(range(-90, 100, 10))\n",
    "X, Y, Z = [], [], []\n",
    "\n",
    "for t1 in theta1_zone1:\n",
    "    for t2 in theta2:\n",
    "        for t3 in theta3:\n",
    "            robot.update_theta(0, t1)\n",
    "            robot.update_theta(1, t2)\n",
    "            robot.update_theta(2, t3)\n",
    "            \n",
    "            robot.forward_kinematics()\n",
    "            if robot.get_X() >= 0 and robot.get_Y()>=0:\n",
    "                X.append(robot.get_X())\n",
    "                Y.append(robot.get_Y())\n",
    "                Z.append(robot.get_Z())\n",
    "\n",
    "for i in range(len(robot.joints)):\n",
    "    robot.update_theta(i, initial[i])\n",
    "robot.forward_kinematics()\n",
    "X_ = robot.get_all_X()\n",
    "Y_ = robot.get_all_Y()\n",
    "Z_ = robot.get_all_Z()\n",
    "\n",
    "fig = go.Figure(data=go.Mesh3d(x=X, y=Y, z=Z,\n",
    "                   alphahull=5,\n",
    "                   opacity=0.5,\n",
    "                   color='orange'\n",
    "    ))\n",
    "\n",
    "X, Y, Z = [], [], []\n",
    "\n",
    "for t1 in theta1_zone2:\n",
    "    for t2 in theta2:\n",
    "        for t3 in theta3:\n",
    "            robot.update_theta(0, t1)\n",
    "            robot.update_theta(1, t2)\n",
    "            robot.update_theta(2, t3)\n",
    "\n",
    "            robot.forward_kinematics()\n",
    "            if round(robot.get_X(),4) <= 0 and round(robot.get_Y(),4) <= 0:\n",
    "                X.append(robot.get_X())\n",
    "                Y.append(robot.get_Y())\n",
    "                Z.append(robot.get_Z())\n",
    "\n",
    "fig.add_trace(go.Mesh3d(x=X, y=Y, z=Z,\n",
    "                   alphahull=5,\n",
    "                   opacity=0.5,\n",
    "                   color='orange'\n",
    "    ))\n",
    "\n",
    "initial = [90, 0, 0]\n",
    "theta1_zone1 = list(range(90, 190, 10))\n",
    "theta1_zone2 = list(range(270, 370, 10))\n",
    "\n",
    "X, Y, Z = [], [], []\n",
    "X_Y = []\n",
    "    \n",
    "for t1 in theta1_zone1:\n",
    "    for t2 in theta2:\n",
    "        for t3 in theta3:\n",
    "            robot.update_theta(0, t1)\n",
    "            robot.update_theta(1, t2)\n",
    "            robot.update_theta(2, t3)\n",
    "\n",
    "            robot.forward_kinematics()\n",
    "            if round(robot.get_Y(),4) >= 0 and round(robot.get_X(),4) <= 0:\n",
    "                X.append(robot.get_X())\n",
    "                Y.append(robot.get_Y())\n",
    "                Z.append(robot.get_Z())\n",
    "\n",
    "for i in range(len(robot.joints)):\n",
    "    robot.update_theta(i, initial[i])\n",
    "robot.forward_kinematics()\n",
    "X_ = robot.get_all_X()\n",
    "Y_ = robot.get_all_Y()\n",
    "Z_ = robot.get_all_Z()\n",
    "\n",
    "fig.add_trace(go.Mesh3d(x=X, y=Y, z=Z,\n",
    "                   alphahull=5,\n",
    "                   opacity=0.6,\n",
    "                   color='blue'\n",
    "    ))\n",
    "\n",
    "X, Y, Z = [], [], []\n",
    "for t1 in theta1_zone2:\n",
    "    for t2 in theta2:\n",
    "        for t3 in theta3:\n",
    "            robot.update_theta(0, t1)\n",
    "            robot.update_theta(1, t2)\n",
    "            robot.update_theta(2, t3)\n",
    "\n",
    "            robot.forward_kinematics()\n",
    "            if round(robot.get_Y(), 4) <= 0 and round(robot.get_X(), 4) >= 0:\n",
    "                X.append(robot.get_X())\n",
    "                Y.append(robot.get_Y())\n",
    "                Z.append(robot.get_Z())\n",
    "\n",
    "fig.add_trace(go.Mesh3d(x=X, y=Y, z=Z,\n",
    "                   alphahull=5,\n",
    "                   opacity=0.6,\n",
    "                   color='blue'\n",
    "    ))\n",
    "\n",
    "fig.add_trace(go.Scatter3d(\n",
    "                    x=X_, y=Y_, z=Z_,\n",
    "                    marker=dict(\n",
    "                        size=0,\n",
    "                        color=3,\n",
    "                        colorscale='Viridis',\n",
    "                    ),\n",
    "                    line=dict(\n",
    "                        color='darkblue',\n",
    "                        width=5\n",
    "                    )\n",
    "                ))\n",
    "fig.update_layout(\n",
    "                   width=700, height=700, autosize=True, scene_aspectmode='cube', showlegend=False)\n",
    "fig.show()"
   ]
  },
  {
   "cell_type": "markdown",
   "metadata": {},
   "source": [
    "## Treinamento da rede neural\n",
    "\n",
    "### Pré-processamento dos dados"
   ]
  },
  {
   "cell_type": "code",
   "execution_count": null,
   "metadata": {},
   "outputs": [],
   "source": [
    "from sklearn.preprocessing import StandardScaler"
   ]
  },
  {
   "cell_type": "code",
   "execution_count": null,
   "metadata": {},
   "outputs": [],
   "source": [
    "indices = np.arange(X_zone1.shape[0])\n",
    "np.random.shuffle(indices)\n",
    "\n",
    "X_zone1 = X_zone1[indices]\n",
    "y_zone1 = y_zone1[indices]\n",
    "\n",
    "indices = np.arange(X_zone2.shape[0])\n",
    "np.random.shuffle(indices)\n",
    "\n",
    "X_zone2 = X_zone2[indices]\n",
    "y_zone2 = y_zone2[indices]\n",
    "\n",
    "indices = np.arange(X_total.shape[0])\n",
    "np.random.shuffle(indices)\n",
    "\n",
    "X_total = X_total[indices]\n",
    "y_total = y_total[indices]"
   ]
  },
  {
   "cell_type": "code",
   "execution_count": null,
   "metadata": {},
   "outputs": [],
   "source": [
    "scaler_X1 = StandardScaler()\n",
    "X_zone1 = scaler_X1.fit_transform(X_zone1)\n",
    "\n",
    "scaler_X2 = StandardScaler()\n",
    "X_zone2 = scaler_X2.fit_transform(X_zone2)\n",
    "\n",
    "scaler_Xtotal = StandardScaler()\n",
    "X_total = scaler_Xtotal.fit_transform(X_total)"
   ]
  },
  {
   "cell_type": "markdown",
   "metadata": {},
   "source": [
    "## Trejetória de teste"
   ]
  },
  {
   "cell_type": "code",
   "execution_count": null,
   "metadata": {},
   "outputs": [],
   "source": [
    "test_set_input1 = []\n",
    "test_set_output1 = []\n",
    "\n",
    "test_set_input2 = []\n",
    "test_set_output2 = []"
   ]
  },
  {
   "cell_type": "code",
   "execution_count": null,
   "metadata": {},
   "outputs": [],
   "source": [
    "X, Y, Z = [], [], []\n",
    "input_pred = []\n",
    "final_X, final_Y, final_Z = [], [], []\n",
    "points = []\n",
    "robot.update_theta(0, 0)\n",
    "robot.update_theta(1, 0)\n",
    "robot.update_theta(2, -90)\n",
    "theta2 = 0\n",
    "theta3 = -90\n",
    "for k in range(3):\n",
    "    for i in range(0, 360, 15):\n",
    "        robot.update_theta(0, i)\n",
    "        robot.update_theta(1, theta2)\n",
    "        robot.update_theta(2, theta3)\n",
    "        robot.forward_kinematics()\n",
    "        X = robot.get_all_X()\n",
    "        Y = robot.get_all_Y()\n",
    "        Z = robot.get_all_Z()\n",
    "        points.append([X, Y, Z])\n",
    "        input_pred.append([robot.get_X(), robot.get_Y(), robot.get_Z()])\n",
    "        final_X.append(robot.get_X())\n",
    "        final_Y.append(robot.get_Y())\n",
    "        final_Z.append(robot.get_Z())\n",
    "        if (robot.get_X() >= 0 and robot.get_Y() >= 0) or (robot.get_X() < 0 and robot.get_Y() < 0):\n",
    "            test_set_input1.append(list(scaler_X1.transform([[robot.get_X(), robot.get_Y(), robot.get_Z()]])[0]))\n",
    "            test_set_output1.append([i, theta2, theta3])\n",
    "        else:\n",
    "            test_set_input2.append(list(scaler_X2.transform([[robot.get_X(), robot.get_Y(), robot.get_Z()]])[0]))\n",
    "            test_set_output2.append([i, theta2, theta3])\n",
    "        theta2 += 1\n",
    "        theta3 += 1"
   ]
  },
  {
   "cell_type": "code",
   "execution_count": null,
   "metadata": {},
   "outputs": [],
   "source": [
    "X_2, Y_2, Z_2 = [], [], []\n",
    "input_pred_2 = []\n",
    "final_X_2, final_Y_2, final_Z_2 = [], [], []\n",
    "points_2 = []\n",
    "theta2 = 0\n",
    "theta3 = -90\n",
    "robot.update_theta(0, 100)\n",
    "robot.update_theta(1, theta2)\n",
    "robot.update_theta(2, theta3)\n",
    "for i in range(-90, 90, 10):\n",
    "    robot.update_theta(2, i)\n",
    "    robot.forward_kinematics()\n",
    "    X = robot.get_all_X()\n",
    "    Y = robot.get_all_Y()\n",
    "    Z = robot.get_all_Z()\n",
    "    points_2.append([X, Y, Z])\n",
    "    input_pred_2.append([robot.get_X(), robot.get_Y(), robot.get_Z()])\n",
    "    final_X_2.append(robot.get_X())\n",
    "    final_Y_2.append(robot.get_Y())\n",
    "    final_Z_2.append(robot.get_Z())\n",
    "    if (robot.get_X() >= 0 and robot.get_Y() >= 0) or (robot.get_X() < 0 and robot.get_Y() < 0):\n",
    "        test_set_input1.append(list(scaler_X1.transform([[robot.get_X(), robot.get_Y(), robot.get_Z()]])[0]))\n",
    "        test_set_output1.append([100, theta2, i])\n",
    "    else:\n",
    "        test_set_input2.append(list(scaler_X2.transform([[robot.get_X(), robot.get_Y(), robot.get_Z()]])[0]))\n",
    "        test_set_output2.append([100, theta2, i])"
   ]
  },
  {
   "cell_type": "code",
   "execution_count": null,
   "metadata": {},
   "outputs": [],
   "source": [
    "fig = go.Figure(data=go.Scatter3d(\n",
    "    x=final_X, y=final_Y, z=final_Z,\n",
    "    marker=dict(\n",
    "        size=0,\n",
    "        color=3,\n",
    "        colorscale='Viridis',\n",
    "    ),\n",
    "    line=dict(\n",
    "        color='darkblue',\n",
    "        width=2\n",
    "    )\n",
    "))\n",
    "\n",
    "fig.update_layout(scene = dict(\n",
    "                                xaxis = dict(nticks=8, range=[min(final_X) - 1,max(final_X) + 1]),\n",
    "                                yaxis = dict(nticks=8, range=[min(final_Y) - 1,max(final_Y) + 1]),\n",
    "                                zaxis = dict(nticks=8, range=[min(final_Z) - 1,max(final_Z) + 1])),\n",
    "                  width=700, height=700)\n",
    "fig.show()"
   ]
  },
  {
   "cell_type": "code",
   "execution_count": null,
   "metadata": {},
   "outputs": [],
   "source": [
    "fig = go.Figure(data=go.Scatter3d(\n",
    "    x=final_X_2, y=final_Y_2, z=final_Z_2,\n",
    "    marker=dict(\n",
    "        size=0,\n",
    "        color=3,\n",
    "        colorscale='Viridis',\n",
    "    ),\n",
    "    line=dict(\n",
    "        color='darkblue',\n",
    "        width=2\n",
    "    )\n",
    "))\n",
    "\n",
    "fig.update_layout(scene = dict(\n",
    "                                xaxis = dict(nticks=8, range=[min(final_X_2) - 1,max(final_X_2) + 1]),\n",
    "                                yaxis = dict(nticks=8, range=[min(final_Y_2) - 1,max(final_Y_2) + 1]),\n",
    "                                zaxis = dict(nticks=8, range=[min(final_Z_2) - 1,max(final_Z_2) + 1])),\n",
    "                  width=700, height=700)\n",
    "fig.show()"
   ]
  },
  {
   "cell_type": "markdown",
   "metadata": {},
   "source": [
    "### Definindo topologia da rede"
   ]
  },
  {
   "cell_type": "code",
   "execution_count": null,
   "metadata": {},
   "outputs": [],
   "source": [
    "import tensorflow as tf\n",
    "from tensorflow import keras\n",
    "from tensorflow.keras import layers\n",
    "from tensorflow.keras.layers import Dense, Activation, LeakyReLU, Input, Lambda, Concatenate, Dropout"
   ]
  },
  {
   "cell_type": "code",
   "execution_count": null,
   "metadata": {},
   "outputs": [],
   "source": [
    "from sklearn.metrics import mean_absolute_error"
   ]
  },
  {
   "cell_type": "code",
   "execution_count": null,
   "metadata": {},
   "outputs": [],
   "source": [
    "class MAEHistory(tf.keras.callbacks.Callback):\n",
    "\n",
    "    def __init__(self, train=None, robot=None, scaler=None, validation=None):\n",
    "        super(MAEHistory, self).__init__()\n",
    "        self.validation = validation\n",
    "        self.train = train\n",
    "        self.robot = robot\n",
    "        self.scaler = scaler\n",
    "\n",
    "    def on_epoch_end(self, epoch, logs={}):\n",
    "\n",
    "        logs['MAE_score_train'] = float('-inf')\n",
    "        X_train, y_train = self.train[0], self.train[1]\n",
    "        y_pred = (self.model.predict(X_train))\n",
    "        points_final = []\n",
    "        for theta1, theta2, theta3 in y_pred:\n",
    "            self.robot.update_theta(0, theta1)\n",
    "            self.robot.update_theta(1, theta2)\n",
    "            self.robot.update_theta(2, theta3)\n",
    "            self.robot.forward_kinematics()\n",
    "            points_final.append([robot.get_X(), robot.get_Y(), robot.get_Z()])\n",
    "        score = mean_absolute_error(points_final, self.scaler.inverse_transform(X_train))      \n",
    "\n",
    "        if (self.validation):\n",
    "            logs['MAE_score_val'] = float('-inf')\n",
    "            X_valid, y_valid = self.validation[0], self.validation[1]\n",
    "            y_val_pred = (self.model.predict(X_valid))\n",
    "            points_final = []\n",
    "            for theta1, theta2, theta3 in y_val_pred:\n",
    "                self.robot.update_theta(0, theta1)\n",
    "                self.robot.update_theta(1, theta2)\n",
    "                self.robot.update_theta(2, theta3)\n",
    "                self.robot.forward_kinematics()\n",
    "                points_final.append([robot.get_X(), robot.get_Y(), robot.get_Z()])\n",
    "            val_score = mean_absolute_error(points_final, self.scaler.inverse_transform(X_valid))\n",
    "            logs['MAE_score_train'] = np.round(score, 5)\n",
    "            logs['MAE_score_val'] = np.round(val_score, 5)\n",
    "            print(\"MAE train:\", np.round(score, 5))\n",
    "            print(\"MAE test:\", np.round(val_score, 5))\n",
    "        else:\n",
    "            logs['MAE_score_train'] = np.round(score, 5)"
   ]
  },
  {
   "cell_type": "code",
   "execution_count": null,
   "metadata": {},
   "outputs": [],
   "source": [
    "model1 = keras.Sequential([\n",
    "    Dense(256, input_shape=(3,)),\n",
    "    LeakyReLU(),\n",
    "    Dropout(0.2),\n",
    "    Dense(256),\n",
    "    LeakyReLU(),\n",
    "    Dropout(0.2), \n",
    "    Dense(256),\n",
    "    LeakyReLU(),\n",
    "    Dropout(0.2),\n",
    "    Dense(256),\n",
    "    LeakyReLU(),\n",
    "    Dropout(0.2),\n",
    "    Dense(256),\n",
    "    LeakyReLU(),\n",
    "    Dropout(0.2), \n",
    "    Dense(256),\n",
    "    LeakyReLU(),\n",
    "    Dropout(0.2),\n",
    "    Dense(256),\n",
    "    LeakyReLU(),\n",
    "    Dense(3)\n",
    "])"
   ]
  },
  {
   "cell_type": "code",
   "execution_count": null,
   "metadata": {},
   "outputs": [],
   "source": [
    "model2 = keras.Sequential([\n",
    "    Dense(256, input_shape=(3,)),\n",
    "    LeakyReLU(),\n",
    "    Dropout(0.2),\n",
    "    Dense(256),\n",
    "    LeakyReLU(),\n",
    "    Dropout(0.2), \n",
    "    Dense(256),\n",
    "    LeakyReLU(),\n",
    "    Dropout(0.2),\n",
    "    Dense(256),\n",
    "    LeakyReLU(),\n",
    "    Dropout(0.2),\n",
    "    Dense(256),\n",
    "    LeakyReLU(),\n",
    "    Dropout(0.2), \n",
    "    Dense(256),\n",
    "    LeakyReLU(),\n",
    "    Dropout(0.2),\n",
    "    Dense(256),\n",
    "    LeakyReLU(),\n",
    "    Dense(3)\n",
    "])"
   ]
  },
  {
   "cell_type": "code",
   "execution_count": null,
   "metadata": {},
   "outputs": [],
   "source": [
    "model_total = keras.Sequential([\n",
    "    Dense(256, input_shape=(3,)),\n",
    "    LeakyReLU(),\n",
    "    Dropout(0.2),\n",
    "    Dense(256),\n",
    "    LeakyReLU(),\n",
    "    Dropout(0.2), \n",
    "    Dense(256),\n",
    "    LeakyReLU(),\n",
    "    Dropout(0.2),\n",
    "    Dense(256),\n",
    "    LeakyReLU(),\n",
    "    Dropout(0.2),\n",
    "    Dense(256),\n",
    "    LeakyReLU(),\n",
    "    Dropout(0.2), \n",
    "    Dense(256),\n",
    "    LeakyReLU(),\n",
    "    Dropout(0.2),\n",
    "    Dense(256),\n",
    "    LeakyReLU(),\n",
    "    Dense(3)\n",
    "])"
   ]
  },
  {
   "cell_type": "code",
   "execution_count": null,
   "metadata": {},
   "outputs": [],
   "source": [
    "learning_rate_fn = keras.optimizers.schedules.InverseTimeDecay(\n",
    "  1e-2, 250, 0.4)\n",
    "\n",
    "model1.compile(optimizer = keras.optimizers.Adam(learning_rate=learning_rate_fn), loss='mse')\n",
    "model2.compile(optimizer = keras.optimizers.Adam(learning_rate=learning_rate_fn), loss='mse')\n",
    "model_total.compile(optimizer = keras.optimizers.Adam(learning_rate=learning_rate_fn), loss='mse')"
   ]
  },
  {
   "cell_type": "code",
   "execution_count": null,
   "metadata": {},
   "outputs": [],
   "source": [
    "model1.summary(), model2.summary(), model_total.summary()"
   ]
  },
  {
   "cell_type": "code",
   "execution_count": null,
   "metadata": {
    "scrolled": true
   },
   "outputs": [],
   "source": [
    "history = model1.fit(X_zone1, y_zone1, epochs=1000, batch_size=32, workers=-1, use_multiprocessing=True,\n",
    "                    callbacks=[MAEHistory(train=(X_zone1, y_zone1), robot=robot, scaler=scaler_X1, validation=(test_set_input1, test_set_output1))])"
   ]
  },
  {
   "cell_type": "code",
   "execution_count": null,
   "metadata": {},
   "outputs": [],
   "source": [
    "plt.figure(figsize=(20,20))\n",
    "plt.plot(history.history['MAE_score_train'])\n",
    "plt.plot(history.history['MAE_score_val'])\n",
    "plt.ylabel('MAE', fontsize=30)\n",
    "plt.xlabel('Epoch', fontsize=30)\n",
    "plt.xticks(fontsize=20)\n",
    "plt.yticks(fontsize=20)\n",
    "plt.legend(['Treino', 'Teste'], loc='upper right', fontsize=25)\n",
    "plt.savefig('model_zone_1.png')\n",
    "plt.show()"
   ]
  },
  {
   "cell_type": "code",
   "execution_count": null,
   "metadata": {
    "scrolled": true
   },
   "outputs": [],
   "source": [
    "history_2 = model2.fit(X_zone2, y_zone2, epochs=1000, batch_size=32, workers=-1, use_multiprocessing=True,\n",
    "                        callbacks=[MAEHistory(train=(X_zone2, y_zone2), robot=robot, scaler=scaler_X2, validation=(test_set_input2, test_set_output2))])"
   ]
  },
  {
   "cell_type": "code",
   "execution_count": null,
   "metadata": {},
   "outputs": [],
   "source": [
    "plt.figure(figsize=(20,20))\n",
    "plt.plot(history_2.history['MAE_score_train'])\n",
    "plt.plot(history_2.history['MAE_score_val'])\n",
    "plt.ylabel('MAE', fontsize=30)\n",
    "plt.xlabel('Epoch', fontsize=30)\n",
    "plt.xticks(fontsize=20)\n",
    "plt.yticks(fontsize=20)\n",
    "plt.legend(['Treino', 'Teste'], loc='upper right', fontsize=25)\n",
    "plt.savefig('model_zone_2.png')\n",
    "plt.show()"
   ]
  },
  {
   "cell_type": "code",
   "execution_count": null,
   "metadata": {},
   "outputs": [],
   "source": [
    "history_total = model_total.fit(X_total, y_total, epochs=1000, batch_size=32, workers=-1, use_multiprocessing=True,\n",
    "                    callbacks=[MAEHistory(train=(X_zone2, y_zone2), robot=robot, scaler=scaler_X2, validation=(test_set_input1 + test_set_input2, test_set_output1 + test_set_output2))])"
   ]
  },
  {
   "cell_type": "code",
   "execution_count": null,
   "metadata": {},
   "outputs": [],
   "source": [
    "plt.figure(figsize=(20,20))\n",
    "plt.plot(history_total.history['MAE_score_train'])\n",
    "plt.plot(history_total.history['MAE_score_val'])\n",
    "plt.ylabel('MAE', fontsize=30)\n",
    "plt.xlabel('Epoch', fontsize=30)\n",
    "plt.xticks(fontsize=20)\n",
    "plt.yticks(fontsize=20)\n",
    "plt.legend(['Treino', 'Teste'], loc='upper right', fontsize=25)\n",
    "plt.savefig('model_total.png')\n",
    "plt.show()"
   ]
  },
  {
   "cell_type": "code",
   "execution_count": null,
   "metadata": {},
   "outputs": [],
   "source": [
    "model1.save(\"models/model1\")\n",
    "model2.save(\"models/model2\")\n",
    "model_total.save(\"models/model_total\")"
   ]
  },
  {
   "cell_type": "markdown",
   "metadata": {},
   "source": [
    "## Predict"
   ]
  },
  {
   "cell_type": "markdown",
   "metadata": {},
   "source": [
    "### Modelo sem zonas"
   ]
  },
  {
   "cell_type": "code",
   "execution_count": null,
   "metadata": {},
   "outputs": [],
   "source": [
    "output = []\n",
    "for X, Y, Z in input_pred:\n",
    "    output.append(model_total.predict(scaler_Xtotal.transform([[X, Y, Z]]))[0])\n",
    "\n",
    "final_points = []\n",
    "final_X_, final_Y_, final_Z_ = [], [], []\n",
    "for theta1, theta2, theta3 in output:\n",
    "    robot.update_theta(0, theta1)\n",
    "    robot.update_theta(1, theta2)\n",
    "    robot.update_theta(2, theta3)\n",
    "    robot.forward_kinematics()\n",
    "    final_X_.append(robot.get_X())\n",
    "    final_Y_.append(robot.get_Y())\n",
    "    final_Z_.append(robot.get_Z())\n",
    "    final_points.append([robot.get_X(), robot.get_Y(), robot.get_Z()])"
   ]
  },
  {
   "cell_type": "code",
   "execution_count": null,
   "metadata": {},
   "outputs": [],
   "source": [
    "fig = go.Figure(data=go.Scatter3d(\n",
    "    x=final_X_, y=final_Y_, z=final_Z_,\n",
    "    marker=dict(\n",
    "        size=0,\n",
    "        color=3,\n",
    "        colorscale='Viridis',\n",
    "    ),\n",
    "    line=dict(\n",
    "        color='orange',\n",
    "        width=2\n",
    "    ),\n",
    "    name=\"Predito\"\n",
    "))\n",
    "\n",
    "fig.add_trace(\n",
    "go.Scatter3d(\n",
    "    x=final_X, y=final_Y, z=final_Z,\n",
    "    marker=dict(\n",
    "        size=0,\n",
    "        color=3,\n",
    "        colorscale='Viridis',\n",
    "    ),\n",
    "    line=dict(\n",
    "        color='darkblue',\n",
    "        width=2\n",
    "    ),\n",
    "    name=\"Real\"\n",
    "))\n",
    "\n",
    "fig.update_layout(scene = dict(\n",
    "                                 xaxis = dict(nticks=8, range=[-110,110]),\n",
    "                                yaxis = dict(nticks=8, range=[-110, 110]),\n",
    "                                zaxis = dict(nticks=8, range=[0, 250])),\n",
    "                  width=700, height=700)\n",
    "fig.show()"
   ]
  },
  {
   "cell_type": "code",
   "execution_count": null,
   "metadata": {},
   "outputs": [],
   "source": [
    "output = []\n",
    "for X, Y, Z in input_pred_2:\n",
    "    output.append(model_total.predict(scaler_Xtotal.transform([[X, Y, Z]]))[0])\n",
    "\n",
    "points_final = []\n",
    "final_X_, final_Y_, final_Z_ = [], [], []\n",
    "for theta1, theta2, theta3 in output:\n",
    "    robot.update_theta(0, theta1)\n",
    "    robot.update_theta(1, theta2)\n",
    "    robot.update_theta(2, theta3)\n",
    "    robot.forward_kinematics()\n",
    "    final_X_.append(robot.get_X())\n",
    "    final_Y_.append(robot.get_Y())\n",
    "    final_Z_.append(robot.get_Z())\n",
    "    points_final.append([robot.get_X(), robot.get_Y(), robot.get_Z()])"
   ]
  },
  {
   "cell_type": "code",
   "execution_count": null,
   "metadata": {},
   "outputs": [],
   "source": [
    "fig = go.Figure(data=go.Scatter3d(\n",
    "    x=final_X_, y=final_Y_, z=final_Z_,\n",
    "    marker=dict(\n",
    "        size=0,\n",
    "        color=3,\n",
    "        colorscale='Viridis',\n",
    "    ),\n",
    "    line=dict(\n",
    "        color='orange',\n",
    "        width=2\n",
    "    ),\n",
    "    name=\"Predito\"\n",
    "))\n",
    "\n",
    "fig.add_trace(\n",
    "go.Scatter3d(\n",
    "    x=final_X_2, y=final_Y_2, z=final_Z_2,\n",
    "    marker=dict(\n",
    "        size=0,\n",
    "        color=3,\n",
    "        colorscale='Viridis',\n",
    "    ),\n",
    "    line=dict(\n",
    "        color='darkblue',\n",
    "        width=2\n",
    "    ),\n",
    "    name=\"Real\"\n",
    "))\n",
    "fig.update_layout(scene = dict(\n",
    "                                xaxis = dict(nticks=8, range=[-110,110]),\n",
    "                                yaxis = dict(nticks=8, range=[-110, 110]),\n",
    "                                zaxis = dict(nticks=8, range=[0, 200])),\n",
    "                   width=700, height=700)\n",
    "fig.show()"
   ]
  },
  {
   "cell_type": "markdown",
   "metadata": {},
   "source": [
    "### Modelo de 2 zonas"
   ]
  },
  {
   "cell_type": "code",
   "execution_count": null,
   "metadata": {},
   "outputs": [],
   "source": [
    "output = []\n",
    "for X, Y, Z in input_pred:\n",
    "    if (X >= 0 and Y >= 0) or (X < 0 and Y < 0):\n",
    "        output.append(model1.predict(scaler_X1.transform([[X, Y, Z]]))[0])\n",
    "    else:\n",
    "        output.append(model2.predict(scaler_X2.transform([[X, Y, Z]]))[0])\n",
    "\n",
    "        \n",
    "final_points = []\n",
    "final_X_, final_Y_, final_Z_ = [], [], []\n",
    "for theta1, theta2, theta3 in output:\n",
    "    robot.update_theta(0, theta1)\n",
    "    robot.update_theta(1, theta2)\n",
    "    robot.update_theta(2, theta3)\n",
    "    robot.forward_kinematics()\n",
    "    final_X_.append(robot.get_X())\n",
    "    final_Y_.append(robot.get_Y())\n",
    "    final_Z_.append(robot.get_Z())\n",
    "    final_points.append([robot.get_X(), robot.get_Y(), robot.get_Z()])"
   ]
  },
  {
   "cell_type": "code",
   "execution_count": null,
   "metadata": {},
   "outputs": [],
   "source": [
    "fig = go.Figure(data=go.Scatter3d(\n",
    "    x=final_X_, y=final_Y_, z=final_Z_,\n",
    "    marker=dict(\n",
    "        size=0,\n",
    "        color=3,\n",
    "        colorscale='Viridis',\n",
    "    ),\n",
    "    line=dict(\n",
    "        color='orange',\n",
    "        width=2\n",
    "    ),\n",
    "    name=\"Predito\"\n",
    "))\n",
    "\n",
    "fig.add_trace(\n",
    "go.Scatter3d(\n",
    "    x=final_X, y=final_Y, z=final_Z,\n",
    "    marker=dict(\n",
    "        size=0,\n",
    "        color=3,\n",
    "        colorscale='Viridis',\n",
    "    ),\n",
    "    line=dict(\n",
    "        color='darkblue',\n",
    "        width=2\n",
    "    ),\n",
    "    name=\"Real\"\n",
    "))\n",
    "\n",
    "fig.update_layout(scene = dict(\n",
    "                                 xaxis = dict(nticks=8, range=[-110,110]),\n",
    "                                yaxis = dict(nticks=8, range=[-110, 110]),\n",
    "                                zaxis = dict(nticks=8, range=[0, 250])),\n",
    "                  width=700, height=600)\n",
    "fig.show()"
   ]
  },
  {
   "cell_type": "code",
   "execution_count": null,
   "metadata": {},
   "outputs": [],
   "source": [
    "output = []\n",
    "for X, Y, Z in input_pred_2:\n",
    "    if (X >= 0 and Y >= 0) or (X < 0 and Y < 0):\n",
    "        output.append(model1.predict(scaler_X1.transform([[X, Y, Z]]))[0])\n",
    "    else:\n",
    "        output.append(model2.predict(scaler_X2.transform([[X, Y, Z]]))[0])\n",
    "\n",
    "points_final = []\n",
    "final_X_, final_Y_, final_Z_ = [], [], []\n",
    "for theta1, theta2, theta3 in output:\n",
    "    robot.update_theta(0, theta1)\n",
    "    robot.update_theta(1, theta2)\n",
    "    robot.update_theta(2, theta3)\n",
    "    robot.forward_kinematics()\n",
    "    final_X_.append(robot.get_X())\n",
    "    final_Y_.append(robot.get_Y())\n",
    "    final_Z_.append(robot.get_Z())\n",
    "    points_final.append([robot.get_X(), robot.get_Y(), robot.get_Z()])"
   ]
  },
  {
   "cell_type": "code",
   "execution_count": null,
   "metadata": {},
   "outputs": [],
   "source": [
    "fig = go.Figure(data=go.Scatter3d(\n",
    "    x=final_X_, y=final_Y_, z=final_Z_,\n",
    "    marker=dict(\n",
    "        size=0,\n",
    "        color=3,\n",
    "        colorscale='Viridis',\n",
    "    ),\n",
    "    line=dict(\n",
    "        color='orange',\n",
    "        width=2\n",
    "    ),\n",
    "    name=\"Predito\"\n",
    "))\n",
    "\n",
    "fig.add_trace(\n",
    "go.Scatter3d(\n",
    "    x=final_X_2, y=final_Y_2, z=final_Z_2,\n",
    "    marker=dict(\n",
    "        size=0,\n",
    "        color=3,\n",
    "        colorscale='Viridis',\n",
    "    ),\n",
    "    line=dict(\n",
    "        color='darkblue',\n",
    "        width=2\n",
    "    ),\n",
    "    name=\"Real\"\n",
    "))\n",
    "fig.update_layout(scene = dict(\n",
    "                                xaxis = dict(nticks=8, range=[-110,110]),\n",
    "                                yaxis = dict(nticks=8, range=[-110, 110]),\n",
    "                                zaxis = dict(nticks=8, range=[0, 200])),\n",
    "                   width=700, height=700)\n",
    "fig.show()"
   ]
  }
 ],
 "metadata": {
  "kernelspec": {
   "display_name": "Python 3",
   "language": "python",
   "name": "python3"
  },
  "language_info": {
   "codemirror_mode": {
    "name": "ipython",
    "version": 3
   },
   "file_extension": ".py",
   "mimetype": "text/x-python",
   "name": "python",
   "nbconvert_exporter": "python",
   "pygments_lexer": "ipython3",
   "version": "3.6.12"
  }
 },
 "nbformat": 4,
 "nbformat_minor": 4
}
